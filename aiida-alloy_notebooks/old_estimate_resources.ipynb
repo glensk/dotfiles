{
 "cells": [
  {
   "cell_type": "code",
   "execution_count": 1,
   "metadata": {},
   "outputs": [],
   "source": [
    "import pandas as pd"
   ]
  },
  {
   "cell_type": "code",
   "execution_count": 5,
   "metadata": {},
   "outputs": [],
   "source": [
    "timing_df = pd.DataFrame(data={\n",
    "    'Num_Atoms': [256,4,8,20],\n",
    "    'Nodes': [16,1,2,2],\n",
    "    'walltime_seconds': [1.5*60*60,5,800,2628],\n",
    "    'nk': [8,1,2,2]\n",
    "})"
   ]
  },
  {
   "cell_type": "code",
   "execution_count": 11,
   "metadata": {},
   "outputs": [],
   "source": [
    "timing_df['node_hours'] = timing_df['walltime_seconds'] * timing_df['Nodes'] / (60*60)\n",
    "timing_df['Num_Atoms^3'] = timing_df['Num_Atoms']**3"
   ]
  },
  {
   "cell_type": "code",
   "execution_count": 21,
   "metadata": {},
   "outputs": [
    {
     "data": {
      "text/plain": [
       "[<matplotlib.lines.Line2D at 0x7f8483104a50>]"
      ]
     },
     "execution_count": 21,
     "metadata": {},
     "output_type": "execute_result"
    },
    {
     "data": {
      "image/png": "[encoded data removed]",
      "text/plain": [
       "<Figure size 432x288 with 1 Axes>"
      ]
     },
     "metadata": {
      "needs_background": "light"
     },
     "output_type": "display_data"
    }
   ],
   "source": [
    "import matplotlib\n",
    "from matplotlib import pyplot as plt\n",
    "\n",
    "num_atoms_cubed = timing_df['Num_Atoms^3'].values\n",
    "node_hours = timing_df['node_hours']\n",
    "\n",
    "plt.plot(num_atoms_cubed, node_hours, '-o')"
   ]
  },
  {
   "cell_type": "code",
   "execution_count": 61,
   "metadata": {},
   "outputs": [
    {
     "data": {
      "text/plain": [
       "0.00018310546875"
      ]
     },
     "execution_count": 61,
     "metadata": {},
     "output_type": "execute_result"
    }
   ],
   "source": [
    "12. / (256**2)"
   ]
  },
  {
   "cell_type": "code",
   "execution_count": 72,
   "metadata": {},
   "outputs": [],
   "source": [
    "def compute_numnodes(num_atoms, a=2*(10**-4), b=4):\n",
    "    numnodes = a*num_atoms**2. + b\n",
    "    return np.floor(numnodes)"
   ]
  },
  {
   "cell_type": "code",
   "execution_count": 76,
   "metadata": {},
   "outputs": [
    {
     "data": {
      "text/plain": [
       "4.0"
      ]
     },
     "execution_count": 76,
     "metadata": {},
     "output_type": "execute_result"
    }
   ],
   "source": [
    "import numpy as np\n",
    "\n",
    "num_atoms = np.arange(0,310, 10)\n",
    "num_nodes = compute_numnodes(num_atoms)"
   ]
  },
  {
   "cell_type": "code",
   "execution_count": 74,
   "metadata": {},
   "outputs": [
    {
     "data": {
      "text/plain": [
       "[(0, 4.0),\n",
       " (10, 4.0),\n",
       " (20, 4.0),\n",
       " (30, 4.0),\n",
       " (40, 4.0),\n",
       " (50, 4.0),\n",
       " (60, 4.0),\n",
       " (70, 4.0),\n",
       " (80, 5.0),\n",
       " (90, 5.0),\n",
       " (100, 6.0),\n",
       " (110, 6.0),\n",
       " (120, 6.0),\n",
       " (130, 7.0),\n",
       " (140, 7.0),\n",
       " (150, 8.0),\n",
       " (160, 9.0),\n",
       " (170, 9.0),\n",
       " (180, 10.0),\n",
       " (190, 11.0),\n",
       " (200, 12.0),\n",
       " (210, 12.0),\n",
       " (220, 13.0),\n",
       " (230, 14.0),\n",
       " (240, 15.0),\n",
       " (250, 16.0),\n",
       " (260, 17.0),\n",
       " (270, 18.0),\n",
       " (280, 19.0),\n",
       " (290, 20.0),\n",
       " (300, 22.0)]"
      ]
     },
     "execution_count": 74,
     "metadata": {},
     "output_type": "execute_result"
    }
   ],
   "source": [
    "zip(num_atoms, num_nodes)"
   ]
  },
  {
   "cell_type": "code",
   "execution_count": 59,
   "metadata": {},
   "outputs": [
    {
     "data": {
      "image/png": "[encoded data removed]",
      "text/plain": [
       "<Figure size 432x288 with 1 Axes>"
      ]
     },
     "metadata": {
      "needs_background": "light"
     },
     "output_type": "display_data"
    }
   ],
   "source": [
    "import matplotlib\n",
    "from matplotlib import pyplot as plt\n",
    "\n",
    "\n",
    "plt.plot(num_atoms, num_nodes, '-o')\n",
    "plt.grid()"
   ]
  },
  {
   "cell_type": "code",
   "execution_count": null,
   "metadata": {},
   "outputs": [],
   "source": []
  }
 ],
 "metadata": {
  "kernelspec": {
   "display_name": "Python 2",
   "language": "python",
   "name": "python2"
  },
  "language_info": {
   "codemirror_mode": {
    "name": "ipython",
    "version": 2
   },
   "file_extension": ".py",
   "mimetype": "text/x-python",
   "name": "python",
   "nbconvert_exporter": "python",
   "pygments_lexer": "ipython2",
   "version": "2.7.15rc1"
  }
 },
 "nbformat": 4,
 "nbformat_minor": 2
}
