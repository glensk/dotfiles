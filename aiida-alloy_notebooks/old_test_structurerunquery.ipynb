{
 "cells": [
  {
   "cell_type": "code",
   "execution_count": 1,
   "metadata": {},
   "outputs": [],
   "source": [
    "%aiida\n",
    "import ase\n",
    "import aiida\n",
    "from aiida.orm.querybuilder import QueryBuilder\n",
    "from aiida.orm.data.structure import StructureData\n",
    "from aiida.orm.calculation import JobCalculation"
   ]
  },
  {
   "cell_type": "code",
   "execution_count": 2,
   "metadata": {},
   "outputs": [],
   "source": [
    "\n",
    "def structure_runbefore(structure_node):\n",
    "    qb = QueryBuilder()\n",
    "    structure_uuid = structure_node.uuid\n",
    "    \n",
    "    filters={'uuid':{'==':structure_uuid}}\n",
    "    qb.append(StructureData, tag='structure', \n",
    "              filters=filters)\n",
    "\n",
    "    qb.append(JobCalculation, descendant_of='structure')\n",
    "    res = qb.all()\n",
    "    \n",
    "    if len(res) > 0:\n",
    "        return True\n",
    "    else:\n",
    "        return False "
   ]
  },
  {
   "cell_type": "code",
   "execution_count": 3,
   "metadata": {},
   "outputs": [],
   "source": [
    "ran_structure = load_node(10492).inp.structure\n",
    "unrun_structure = load_node(10394)"
   ]
  },
  {
   "cell_type": "code",
   "execution_count": 4,
   "metadata": {},
   "outputs": [
    {
     "name": "stdout",
     "output_type": "stream",
     "text": [
      "True\n",
      "False\n"
     ]
    }
   ],
   "source": [
    "print structure_runbefore(ran_structure)\n",
    "print structure_runbefore(unrun_structure)"
   ]
  },
  {
   "cell_type": "code",
   "execution_count": null,
   "metadata": {},
   "outputs": [],
   "source": []
  },
  {
   "cell_type": "code",
   "execution_count": 5,
   "metadata": {},
   "outputs": [],
   "source": [
    "qb = QueryBuilder()\n",
    "\n",
    "structure_uuid = ran_structure.uuid\n"
   ]
  },
  {
   "cell_type": "code",
   "execution_count": null,
   "metadata": {},
   "outputs": [],
   "source": []
  },
  {
   "cell_type": "code",
   "execution_count": 6,
   "metadata": {},
   "outputs": [
    {
     "data": {
      "text/plain": [
       "<StructureData: uuid: 13d97c2e-d81e-471e-b717-21e41d27d66e (pk: 10488)>"
      ]
     },
     "execution_count": 6,
     "metadata": {},
     "output_type": "execute_result"
    }
   ],
   "source": [
    "ran_structure"
   ]
  },
  {
   "cell_type": "code",
   "execution_count": null,
   "metadata": {},
   "outputs": [],
   "source": []
  }
 ],
 "metadata": {
  "kernelspec": {
   "display_name": "Python 2",
   "language": "python",
   "name": "python2"
  },
  "language_info": {
   "codemirror_mode": {
    "name": "ipython",
    "version": 2
   },
   "file_extension": ".py",
   "mimetype": "text/x-python",
   "name": "python",
   "nbconvert_exporter": "python",
   "pygments_lexer": "ipython2",
   "version": "2.7.15rc1"
  }
 },
 "nbformat": 4,
 "nbformat_minor": 2
}
