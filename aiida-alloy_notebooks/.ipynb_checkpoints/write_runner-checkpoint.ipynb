{
 "cells": [
  {
   "cell_type": "code",
   "execution_count": 48,
   "metadata": {},
   "outputs": [],
   "source": [
    "%aiida\n",
    "import aiida\n",
    "import os\n",
    "import numpy as np\n",
    "from aiida.orm.querybuilder import QueryBuilder\n",
    "from aiida.orm import Group, JobCalculation,  WorkCalculation"
   ]
  },
  {
   "cell_type": "code",
   "execution_count": 2,
   "metadata": {},
   "outputs": [],
   "source": [
    "work_group = \"Al6xxxDB_structures_calc\"\n",
    "work_group = \"twoatom_threerandom1_calc1\"\n",
    "work_group = \"Al6xxxDB_passingsubset\"\n",
    "qb = QueryBuilder()\n",
    "qb.append(Group, filters={'name': work_group}, tag='g')\n",
    "qb.append(WorkCalculation, tag='job', member_of='g')\n",
    "all_works = [x[0] for x in qb.all()]  # all workchains"
   ]
  },
  {
   "cell_type": "code",
   "execution_count": 3,
   "metadata": {},
   "outputs": [],
   "source": [
    "def get_workcalc_runnerdata(worknode):\n",
    "    ase_structure = worknode.inp.structure.get_ase()\n",
    "    energy = worknode.out.output_parameters.get_attrs()['energy']\n",
    "    forces = worknode.out.output_array.get_array('forces') #units?\n",
    "    return ase_structure, energy, forces"
   ]
  },
  {
   "cell_type": "code",
   "execution_count": 80,
   "metadata": {},
   "outputs": [
    {
     "name": "stdout",
     "output_type": "stream",
     "text": [
      "/local/scratch/glensk/Dropbox/Albert/scripts/dotfiles/aiida-alloy_notebooks\n"
     ]
    }
   ],
   "source": [
    "angstrom_to_bohrradius = 1.8897261 \n",
    "\n",
    "fileOut = open(\"input.data\", \"w\")\n",
    "\n",
    "for idx,workchain in enumerate(all_works[:2]):\n",
    "    ase_structure, energy, forces = get_workcalc_runnerdata(workchain)\n",
    "    forces=forces[0]\n",
    "\n",
    "    fileOut.write(\"begin\\ncomment\\n\")\n",
    "    \n",
    "    # write the cell\n",
    "    cell=ase_structure.cell*angstrom_to_bohrradius   \n",
    "    for idx_cell,i in enumerate(cell):\n",
    "        fileOut.write(\"lattice %.10f %.10f %.10f\\n\" % (cell[idx_cell][0], cell[idx_cell][1],cell[idx_cell][2]))\n",
    "    \n",
    "    \n",
    "    # write the positions\n",
    "    nr_of_atoms = ase_structure.positions.shape[0]\n",
    "    for idx_pos in range(nr_of_atoms):\n",
    "        atCor = ase_structure.positions[idx_pos]*angstrom_to_bohrradius \n",
    "        atFor = forces[idx_pos]\n",
    "        element = ase_structure.get_chemical_symbols()[idx_pos]\n",
    "        fileOut.write(\"atom   %.6f    %.6f   %.6f %s  0.0   0.0  %.10f  %.10f  %.10f\\n\"  % (atCor[0], atCor[1],atCor[2],element, atFor[0],atFor[1],atFor[2]) )\n",
    "    fileOut.write(\"energy %.15f\\n\" % (energy))\n",
    "    fileOut.write(\"charge 0\\nend\\n\")\n",
    "    \n",
    "fileOut.close() \n",
    "print(os.getcwd())"
   ]
  },
  {
   "cell_type": "code",
   "execution_count": 6,
   "metadata": {},
   "outputs": [
    {
     "data": {
      "text/plain": [
       "u'322320f2-9c0b-41d0-9d02-59b8fac01f45'"
      ]
     },
     "execution_count": 6,
     "metadata": {},
     "output_type": "execute_result"
    }
   ],
   "source": [
    "ex_work.out."
   ]
  },
  {
   "cell_type": "code",
   "execution_count": 17,
   "metadata": {},
   "outputs": [
    {
     "data": {
      "text/plain": [
       "-12422.001494269265"
      ]
     },
     "execution_count": 17,
     "metadata": {},
     "output_type": "execute_result"
    }
   ],
   "source": [
    "energy"
   ]
  },
  {
   "cell_type": "code",
   "execution_count": 25,
   "metadata": {},
   "outputs": [
    {
     "data": {
      "text/plain": [
       "array([5.58476271, 0.        , 0.        ])"
      ]
     },
     "execution_count": 25,
     "metadata": {},
     "output_type": "execute_result"
    }
   ],
   "source": [
    "ase_structure.cell[0]"
   ]
  },
  {
   "cell_type": "code",
   "execution_count": 53,
   "metadata": {},
   "outputs": [
    {
     "data": {
      "text/plain": [
       "array([0.17113221, 2.90317995, 2.70237466])"
      ]
     },
     "execution_count": 53,
     "metadata": {},
     "output_type": "execute_result"
    }
   ],
   "source": [
    "ase_structure.positions[1]"
   ]
  },
  {
   "cell_type": "code",
   "execution_count": 7,
   "metadata": {},
   "outputs": [],
   "source": [
    "ase_structure, energy, forces = get_workcalc_runnerdata(all_works[1])"
   ]
  },
  {
   "cell_type": "code",
   "execution_count": 8,
   "metadata": {},
   "outputs": [
    {
     "data": {
      "text/plain": [
       "-3975.3160999561683"
      ]
     },
     "execution_count": 8,
     "metadata": {},
     "output_type": "execute_result"
    }
   ],
   "source": [
    "energy"
   ]
  },
  {
   "cell_type": "code",
   "execution_count": 10,
   "metadata": {},
   "outputs": [
    {
     "data": {
      "text/plain": [
       "50"
      ]
     },
     "execution_count": 10,
     "metadata": {},
     "output_type": "execute_result"
    }
   ],
   "source": [
    "len(all_works)"
   ]
  },
  {
   "cell_type": "code",
   "execution_count": 12,
   "metadata": {},
   "outputs": [
    {
     "data": {
      "text/plain": [
       "array([[0.        , 0.        , 0.        ],\n",
       "       [0.17113221, 2.90317995, 2.70237466],\n",
       "       [3.01201477, 0.20927424, 2.76638023],\n",
       "       [3.11563402, 2.99687395, 5.5021047 ],\n",
       "       [0.08125886, 5.56789519, 2.65663893],\n",
       "       [0.08704806, 2.88724748, 5.56667914],\n",
       "       [2.89024104, 0.13971072, 0.01353424],\n",
       "       [2.82144483, 2.94484683, 2.94486589]])"
      ]
     },
     "execution_count": 12,
     "metadata": {},
     "output_type": "execute_result"
    }
   ],
   "source": [
    "ase_structure.positions"
   ]
  },
  {
   "cell_type": "code",
   "execution_count": 13,
   "metadata": {},
   "outputs": [
    {
     "data": {
      "text/plain": [
       "array([[5.58476271, 0.        , 0.        ],\n",
       "       [0.        , 5.58476271, 0.        ],\n",
       "       [0.        , 0.        , 5.58476271]])"
      ]
     },
     "execution_count": 13,
     "metadata": {},
     "output_type": "execute_result"
    }
   ],
   "source": [
    "ase_structure.cell"
   ]
  },
  {
   "cell_type": "code",
   "execution_count": 59,
   "metadata": {},
   "outputs": [
    {
     "data": {
      "text/plain": [
       "array([ 0.00695175, -0.01126246,  0.00869521])"
      ]
     },
     "execution_count": 59,
     "metadata": {},
     "output_type": "execute_result"
    }
   ],
   "source": [
    "forces[0][0]"
   ]
  },
  {
   "cell_type": "code",
   "execution_count": 78,
   "metadata": {},
   "outputs": [
    {
     "data": {
      "text/plain": [
       "<bound method Atoms.get_chemical_symbols of Atoms(symbols='Al4Mg4', pbc=[True, True, True], cell=[5.584762710165715, 5.584762710165715, 5.584762710165715], masses=..., positions=...)>"
      ]
     },
     "execution_count": 78,
     "metadata": {},
     "output_type": "execute_result"
    }
   ],
   "source": [
    "ase_structure.get_chemical_symbols"
   ]
  },
  {
   "cell_type": "code",
   "execution_count": 79,
   "metadata": {},
   "outputs": [
    {
     "data": {
      "text/plain": [
       "['Al', 'Al', 'Al', 'Al', 'Mg', 'Mg', 'Mg', 'Mg']"
      ]
     },
     "execution_count": 79,
     "metadata": {},
     "output_type": "execute_result"
    }
   ],
   "source": [
    "ase_structure.get_chemical_symbols()"
   ]
  },
  {
   "cell_type": "code",
   "execution_count": null,
   "metadata": {},
   "outputs": [],
   "source": []
  }
 ],
 "metadata": {
  "kernelspec": {
   "display_name": "Python 3",
   "language": "python",
   "name": "python3"
  },
  "language_info": {
   "codemirror_mode": {
    "name": "ipython",
    "version": 2
   },
   "file_extension": ".py",
   "mimetype": "text/x-python",
   "name": "python",
   "nbconvert_exporter": "python",
   "pygments_lexer": "ipython2",
   "version": "2.7.12"
  }
 },
 "nbformat": 4,
 "nbformat_minor": 2
}
