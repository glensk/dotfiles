{
 "cells": [
  {
   "cell_type": "code",
   "execution_count": 1,
   "metadata": {},
   "outputs": [],
   "source": [
    "%aiida\n",
    "import ase\n",
    "import aiida\n",
    "from aiida.orm.querybuilder import QueryBuilder\n",
    "from aiida.orm.data.structure import StructureData\n",
    "from aiida.orm import Group, JobCalculation,  WorkCalculation"
   ]
  },
  {
   "cell_type": "code",
   "execution_count": 2,
   "metadata": {},
   "outputs": [],
   "source": [
    "def retrieve_alluncalculated_structures(structure_group, calculation_group=None):\n",
    "    Group.get_from_string(structure_group) #check if structure group exists \n",
    "    \n",
    "    sqb = QueryBuilder()\n",
    "    sqb.append(Group, filters={'name': structure_group}, tag='g')\n",
    "    sqb.append(StructureData, project='id', tag='s', member_of='g')\n",
    "    sqb.append(WorkCalculation, tag='job', output_of='s')\n",
    "    \n",
    "    filters = {}\n",
    "    if calculation_group:\n",
    "        Group.get_from_string(calculation_group) #check if calculation_group exists\n",
    "        filters={'name':calculation_group}\n",
    "    sqb.append(Group, group_of='job', filters=filters)\n",
    "\n",
    "    ids_dealt_with = [_ for _, in sqb.distinct().all()] or [-1] # prevent empty list if none calculated!\n",
    "\n",
    "    # # Now the main query:\n",
    "    qb = QueryBuilder()\n",
    "    qb.append(Group, filters={'name':structure_group}, tag='g')\n",
    "    qb.append(StructureData, project='*', tag='s', member_of='g',\n",
    "        filters={'id':{'!in':ids_dealt_with}}) # This will filter out calculated, !in for not in\n",
    "    \n",
    "    return qb.all() #or maybe just qb?"
   ]
  },
  {
   "cell_type": "code",
   "execution_count": 4,
   "metadata": {},
   "outputs": [],
   "source": [
    "# calc_g = Group.get_or_create(name=\"test_calc_group\")[0]\n",
    "\n",
    "# run_calc = load_node(13100)\n",
    "# calc_g.add_nodes(run_calc)"
   ]
  },
  {
   "cell_type": "code",
   "execution_count": 5,
   "metadata": {},
   "outputs": [],
   "source": [
    "STRUCTURE_GROUP=\"twoatom_tenrandom_1\"\n",
    "CALCULATION_GROUP=\"twoatom_tenrandom_1_calc1\""
   ]
  },
  {
   "cell_type": "code",
   "execution_count": 6,
   "metadata": {},
   "outputs": [
    {
     "name": "stdout",
     "output_type": "stream",
     "text": [
      "No user-defined group with name 'bb' found.\n"
     ]
    }
   ],
   "source": [
    "try:\n",
    "    len(retrieve_alluncalculated_structures(STRUCTURE_GROUP, calculation_group=\"bb\"))\n",
    "except Exception, e:\n",
    "    print e"
   ]
  },
  {
   "cell_type": "code",
   "execution_count": 7,
   "metadata": {},
   "outputs": [
    {
     "data": {
      "text/plain": [
       "0"
      ]
     },
     "execution_count": 7,
     "metadata": {},
     "output_type": "execute_result"
    }
   ],
   "source": [
    "len(retrieve_alluncalculated_structures(STRUCTURE_GROUP, calculation_group=CALCULATION_GROUP))"
   ]
  },
  {
   "cell_type": "code",
   "execution_count": 8,
   "metadata": {},
   "outputs": [
    {
     "data": {
      "text/plain": [
       "10"
      ]
     },
     "execution_count": 8,
     "metadata": {},
     "output_type": "execute_result"
    }
   ],
   "source": [
    "len(retrieve_alluncalculated_structures(STRUCTURE_GROUP, calculation_group=STRUCTURE_GROUP))"
   ]
  },
  {
   "cell_type": "code",
   "execution_count": 61,
   "metadata": {},
   "outputs": [
    {
     "data": {
      "text/plain": [
       "4893"
      ]
     },
     "execution_count": 61,
     "metadata": {},
     "output_type": "execute_result"
    }
   ],
   "source": []
  },
  {
   "cell_type": "code",
   "execution_count": null,
   "metadata": {},
   "outputs": [],
   "source": []
  }
 ],
 "metadata": {
  "kernelspec": {
   "display_name": "Python 2",
   "language": "python",
   "name": "python2"
  },
  "language_info": {
   "codemirror_mode": {
    "name": "ipython",
    "version": 2
   },
   "file_extension": ".py",
   "mimetype": "text/x-python",
   "name": "python",
   "nbconvert_exporter": "python",
   "pygments_lexer": "ipython2",
   "version": "2.7.15rc1"
  }
 },
 "nbformat": 4,
 "nbformat_minor": 2
}
