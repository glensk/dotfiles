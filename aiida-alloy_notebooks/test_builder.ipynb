{
 "cells": [
  {
   "cell_type": "code",
   "execution_count": 1,
   "metadata": {},
   "outputs": [],
   "source": [
    "%aiida\n",
    "from aiida.orm.data.base import Str\n",
    "from aiida.orm.data.parameter import ParameterData\n",
    "from aiida.orm.data.upf import get_pseudos_from_structure\n",
    "from aiida_quantumespresso.utils.resources import get_default_options "
   ]
  },
  {
   "cell_type": "code",
   "execution_count": 2,
   "metadata": {},
   "outputs": [],
   "source": [
    "pw_calc = CalculationFactory(\"quantumespresso.pw\")\n",
    "builder = pw_calc.get_builder()\n",
    "\n",
    "code = load_node(10402) #pw6.3 on daint\n",
    "builder.code=code\n",
    "\n",
    "structure = load_node(15634) # Mg10Si12\n",
    "builder.structure = structure\n",
    "\n",
    "kpoints = DataFactory('array.kpoints')(kpoints_mesh=[4,4,4])\n",
    "builder.kpoints = kpoints\n",
    "\n",
    "parameter_base = load_node(15705) # base parameters node\n",
    "parameter_dict = parameter_base.get_dict()\n",
    "parameter_dict['CONTROL']['calculation'] = 'scf'\n",
    "parameters = ParameterData(dict=parameter_dict)\n",
    "builder.parameters = parameters\n",
    "\n",
    "pseudo_familyname = \"SSSPefv1.1_alalloy\"\n",
    "pseudo = get_pseudos_from_structure(structure, pseudo_familyname)\n",
    "builder.pseudo = pseudo\n",
    "\n",
    "builder.options.resources= {'num_machines' : 1}\n",
    "builder.options.max_wallclock_seconds = 1800\n",
    "builder.options.queue_name = 'debug'\n",
    "\n",
    "builder.settings = ParameterData(dict={'cmdline': ['-nk', '2']})"
   ]
  },
  {
   "cell_type": "code",
   "execution_count": 8,
   "metadata": {},
   "outputs": [],
   "source": [
    "builder.options.append_text = \"rm -rf ./aiida.save/K*\""
   ]
  },
  {
   "cell_type": "code",
   "execution_count": 9,
   "metadata": {},
   "outputs": [
    {
     "data": {
      "text/plain": [
       "(<aiida.common.folders.Folder at 0x7f96fb48d390>, '_aiidasubmit.sh')"
      ]
     },
     "execution_count": 9,
     "metadata": {},
     "output_type": "execute_result"
    }
   ],
   "source": [
    "builder.submit_test()"
   ]
  },
  {
   "cell_type": "code",
   "execution_count": 88,
   "metadata": {},
   "outputs": [
    {
     "ename": "KeyError",
     "evalue": "'oo'",
     "output_type": "error",
     "traceback": [
      "\u001b[0;31m---------------------------------------------------------------------------\u001b[0m",
      "\u001b[0;31mKeyError\u001b[0m                                  Traceback (most recent call last)",
      "\u001b[0;32m<ipython-input-88-ef11dbeb1ed4>\u001b[0m in \u001b[0;36m<module>\u001b[0;34m()\u001b[0m\n\u001b[0;32m----> 1\u001b[0;31m \u001b[0mstructure\u001b[0m\u001b[0;34m.\u001b[0m\u001b[0mget_extras\u001b[0m\u001b[0;34m(\u001b[0m\u001b[0;34m)\u001b[0m\u001b[0;34m[\u001b[0m\u001b[0;34m'oo'\u001b[0m\u001b[0;34m]\u001b[0m\u001b[0;34m\u001b[0m\u001b[0m\n\u001b[0m",
      "\u001b[0;31mKeyError\u001b[0m: 'oo'"
     ]
    }
   ],
   "source": [
    "structure.get_extras()['oo']"
   ]
  },
  {
   "cell_type": "code",
   "execution_count": 89,
   "metadata": {},
   "outputs": [],
   "source": [
    "test_dict = {\n",
    "}"
   ]
  },
  {
   "cell_type": "code",
   "execution_count": 91,
   "metadata": {},
   "outputs": [],
   "source": [
    "test_dict['a'] = 2"
   ]
  },
  {
   "cell_type": "code",
   "execution_count": null,
   "metadata": {},
   "outputs": [],
   "source": []
  }
 ],
 "metadata": {
  "kernelspec": {
   "display_name": "Python 2",
   "language": "python",
   "name": "python2"
  },
  "language_info": {
   "codemirror_mode": {
    "name": "ipython",
    "version": 2
   },
   "file_extension": ".py",
   "mimetype": "text/x-python",
   "name": "python",
   "nbconvert_exporter": "python",
   "pygments_lexer": "ipython2",
   "version": "2.7.15rc1"
  }
 },
 "nbformat": 4,
 "nbformat_minor": 2
}
