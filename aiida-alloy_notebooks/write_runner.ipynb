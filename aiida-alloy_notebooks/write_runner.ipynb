{
 "cells": [
  {
   "cell_type": "code",
   "execution_count": null,
   "metadata": {},
   "outputs": [],
   "source": [
    "%aiida\n",
    "import aiida\n",
    "from aiida.orm.querybuilder import QueryBuilder\n",
    "from aiida.orm import Group, JobCalculation,  WorkCalculation"
   ]
  },
  {
   "cell_type": "code",
   "execution_count": 2,
   "metadata": {},
   "outputs": [],
   "source": [
    "work_group = \"Al6xxxDB_structures_calc\"\n",
    "work_group = \"twoatom_threerandom1_calc1\"\n",
    "work_group = \"Al6xxxDB_passingsubset\"\n",
    "qb = QueryBuilder()\n",
    "qb.append(Group, filters={'name': work_group}, tag='g')\n",
    "qb.append(WorkCalculation, tag='job', member_of='g')\n",
    "all_works = [x[0] for x in qb.all()]  # all workchains"
   ]
  },
  {
   "cell_type": "code",
   "execution_count": 3,
   "metadata": {},
   "outputs": [],
   "source": [
    "def get_workcalc_runnerdata(worknode):\n",
    "    ase_structure = worknode.inp.structure.get_ase()\n",
    "    energy = worknode.out.output_parameters.get_attrs()['energy']\n",
    "    forces = worknode.out.output_array.get_array('forces') #units?\n",
    "    return ase_structure, energy, forces"
   ]
  },
  {
   "cell_type": "code",
   "execution_count": 4,
   "metadata": {},
   "outputs": [
    {
     "name": "stdout",
     "output_type": "stream",
     "text": [
      "(0, -16736.115845427314, u'd78141ad-e924-4164-b48f-065bd05c9711')\n",
      "(1, -3975.3160999561683, u'3c1357aa-6529-445d-8e5c-a42ba1ff4e8b')\n",
      "(2, -16270.444727734379, u'38ea06ee-7a8d-490f-bbd7-e1ba65d607a5')\n",
      "(3, -1001.4571456142972, u'5fc9fca1-96ee-49aa-b8e1-e1c6ac877be0')\n",
      "(4, -16276.57910324106, u'be3dae4d-3b5d-4098-b436-3772e9bb9192')\n",
      "(5, -6436.53523907558, u'26c4b15b-a19d-47b2-b397-bc051c36af04')\n",
      "(6, -12884.51767899404, u'ca242ade-e77e-4e08-85da-4cda9eefee14')\n",
      "(7, -11977.10149918197, u'774db375-bb03-45bd-aaea-e65e2addec16')\n",
      "(8, -2149.2694543733974, u'bc20a2c7-b309-4cb7-8522-92eea2f83a9d')\n",
      "(9, -2069.053779970509, u'5b1c5b35-ad1f-4fbe-9dfd-38473618438f')\n",
      "(10, -17038.411365618733, u'e5d1c025-4d16-4d0a-b6d1-0a50a2b7fa76')\n",
      "(11, -3975.8355058093675, u'e28b9480-847b-46ce-afc2-8fa2803525ab')\n",
      "(12, -12279.786202702064, u'b013fe3e-99db-43e7-bc1c-8bac7b5cba8e')\n",
      "(13, -17644.940463044994, u'99f4a395-cf9b-4e1f-8826-089053f9ed42')\n",
      "(14, -12422.226211043962, u'd92e9ac0-3024-4407-a95b-9376d7b171b8')\n",
      "(15, -1767.1787397362082, u'893b5606-89fb-4f14-9af4-ba1cb9733ad6')\n",
      "(16, -10747.513002499907, u'1a00c004-9e93-49af-9997-117739314ccc')\n",
      "(17, -16433.761040883222, u'0ee4e656-b9a7-41f2-82b5-c99ec8f4788a')\n",
      "(18, -16734.560112267023, u'd3299073-3928-44ae-9c8e-3f7ba3dba412')\n",
      "(19, -12421.808810463051, u'c3a52b24-a5c3-4934-9178-6ac6c49f14ab')\n",
      "(20, -12421.33428026287, u'b4294b57-d2b1-400a-b011-a4ac6fe5e750')\n",
      "(21, -2148.6090218519294, u'b86b02c0-36e7-4de7-989b-23590f6f3dbc')\n",
      "(22, -16816.290908881252, u'976895f0-4937-4f4f-90cf-4a213a259a07')\n",
      "(23, -994.673480511614, u'd5d5366b-2df5-4e2e-b917-0ce3ef5780b8')\n",
      "(24, -7966.1938133624635, u'528a8827-e66d-442b-a6ad-badc7c5b4e8c')\n",
      "(25, -1909.1013236217939, u'9e93930c-e48a-40c4-95ab-dbfe4e7cfb58')\n",
      "(26, -2447.558270055547, u'72bf4df8-ddf7-428d-bc54-ed617c44dbe4')\n",
      "(27, -6448.130570254436, u'9bb17241-b4cd-4baf-bb20-4afd9a802d3c')\n",
      "(28, -12279.863065064214, u'acddb181-532c-4bd9-98b8-1153d072b184')\n",
      "(29, -14278.937734167803, u'e6a8b7ed-fd4c-4f32-b2e7-af0bd1c6aab1')\n",
      "(30, -17036.849059276657, u'5308c099-56c5-4977-86b3-a202832f42c7')\n",
      "(31, -2446.9392064561107, u'5d9b40e2-2658-4e80-ac63-afdb4b86e69d')\n",
      "(32, -6135.480707496058, u'7cac08b2-f85c-4d2c-a2c9-b2b7922b911d')\n",
      "(33, -1617.6461690613696, u'c9f968ef-2f9c-4e02-aed7-2f1c088dad3b')\n",
      "(34, -7967.299159894649, u'4faf8961-407e-4753-a833-b06b2f114d2b')\n",
      "(35, -4282.4395753660665, u'c4df047e-f453-4c8e-bc44-cee7519abfd5')\n",
      "(36, -2767.9056956312197, u'bde13ef3-86d9-49e2-873e-ae89d2c069d1')\n",
      "(37, -16275.91339973856, u'ae9adaa9-2777-41af-b647-8092a58741d2')\n",
      "(38, -2149.6856199656713, u'5f73c340-eafa-4a02-acdb-bd11043e6a57')\n",
      "(39, -922.1515683120934, u'7546f380-1592-4dee-be63-c9980af4f476')\n",
      "(40, -1001.8135726959126, u'47730c4f-900c-4161-80fb-bc4e49279671')\n",
      "(41, -2069.768504916352, u'78c405a7-37b9-4a3c-9220-2038415747dc')\n",
      "(42, -3975.723675867085, u'de988e46-f90d-484d-b446-03e2cc5e8811')\n",
      "(43, -16804.338296047285, u'6e480ac1-4952-4aa6-a1af-8fab3dc4002e')\n",
      "(44, -4282.227754746271, u'58b8c685-65ef-46ab-b76f-de5c191a55de')\n",
      "(45, -1527.332848772508, u'5e1d8c58-1dee-4f54-a063-95311d4114df')\n",
      "(46, -3974.6100678228254, u'46639e30-94db-4fe7-813a-2f6667e00b1e')\n",
      "(47, -6135.380083473595, u'a81bee88-dc6c-49ce-b321-3c12f781c383')\n",
      "(48, -2446.3942676175925, u'b050acb8-ed1c-422d-9ab8-78bd72952ae6')\n",
      "(49, -12422.001494269265, u'd563c7b1-3a85-4664-80c6-e02176311570')\n"
     ]
    }
   ],
   "source": [
    "for idx,workchain in enumerate(all_works):\n",
    "    ase_structure, energy, forces = get_workcalc_runnerdata(workchain)\n",
    "    print(idx,energy,    workchain.uuid)"
   ]
  },
  {
   "cell_type": "code",
   "execution_count": 6,
   "metadata": {},
   "outputs": [
    {
     "data": {
      "text/plain": [
       "u'322320f2-9c0b-41d0-9d02-59b8fac01f45'"
      ]
     },
     "execution_count": 6,
     "metadata": {},
     "output_type": "execute_result"
    }
   ],
   "source": [
    "ex_work.out."
   ]
  },
  {
   "cell_type": "code",
   "execution_count": 17,
   "metadata": {},
   "outputs": [
    {
     "data": {
      "text/plain": [
       "-12422.001494269265"
      ]
     },
     "execution_count": 17,
     "metadata": {},
     "output_type": "execute_result"
    }
   ],
   "source": [
    "energy"
   ]
  },
  {
   "cell_type": "code",
   "execution_count": 23,
   "metadata": {},
   "outputs": [
    {
     "data": {
      "text/plain": [
       "array([[8.11399958, 0.        , 0.        ],\n",
       "       [0.        , 8.11399958, 0.        ],\n",
       "       [0.        , 0.        , 8.11399958]])"
      ]
     },
     "execution_count": 23,
     "metadata": {},
     "output_type": "execute_result"
    }
   ],
   "source": [
    "ase_structure.cell"
   ]
  },
  {
   "cell_type": "code",
   "execution_count": 24,
   "metadata": {},
   "outputs": [
    {
     "data": {
      "text/plain": [
       "array([[6.19268466, 3.91186633, 2.01371614],\n",
       "       [1.74339972, 1.56000489, 0.28769989],\n",
       "       [6.20607126, 6.05426778, 4.44305917],\n",
       "       [4.03807033, 3.92100522, 4.29482923],\n",
       "       [0.51414434, 6.12905851, 6.01508962],\n",
       "       [6.20612894, 2.09074476, 0.00824934],\n",
       "       [6.30289164, 0.01700617, 2.04720089],\n",
       "       [2.09636198, 6.04680374, 3.72477467],\n",
       "       [0.03148393, 3.91235529, 3.93969629],\n",
       "       [4.233496  , 7.84633064, 3.7707046 ],\n",
       "       [8.00314701, 1.94977777, 5.98365596],\n",
       "       [7.93587748, 6.01507321, 2.23114447],\n",
       "       [4.30379772, 5.75868791, 2.03607335],\n",
       "       [6.09712214, 3.92508253, 6.06401787],\n",
       "       [2.49619346, 0.99667088, 5.56969333],\n",
       "       [3.69173655, 6.17485033, 6.07129194],\n",
       "       [3.65462905, 3.63330215, 7.73401701],\n",
       "       [1.92265215, 6.62209874, 0.5117313 ],\n",
       "       [0.24847728, 4.03002737, 8.06836863],\n",
       "       [3.99539272, 2.08873071, 2.21574912],\n",
       "       [4.20955814, 0.16099317, 0.1305168 ],\n",
       "       [6.145608  , 6.04752289, 7.87196028],\n",
       "       [8.06153749, 8.02073369, 4.20205547],\n",
       "       [2.06883153, 4.06945636, 2.04184032],\n",
       "       [6.06416763, 2.0514015 , 4.10895203],\n",
       "       [5.73734249, 0.32492116, 5.93994645],\n",
       "       [1.84337876, 3.79427839, 5.66074039],\n",
       "       [8.08544783, 1.94798122, 2.1648174 ],\n",
       "       [1.90976616, 0.42028577, 2.75761177],\n",
       "       [7.81309355, 0.0176724 , 7.77228816]])"
      ]
     },
     "execution_count": 24,
     "metadata": {},
     "output_type": "execute_result"
    }
   ],
   "source": [
    "ase_structure.positions"
   ]
  },
  {
   "cell_type": "code",
   "execution_count": null,
   "metadata": {},
   "outputs": [],
   "source": [
    "ase_structure."
   ]
  }
 ],
 "metadata": {
  "kernelspec": {
   "display_name": "Python 3",
   "language": "python",
   "name": "python3"
  },
  "language_info": {
   "codemirror_mode": {
    "name": "ipython",
    "version": 2
   },
   "file_extension": ".py",
   "mimetype": "text/x-python",
   "name": "python",
   "nbconvert_exporter": "python",
   "pygments_lexer": "ipython2",
   "version": "2.7.12"
  }
 },
 "nbformat": 4,
 "nbformat_minor": 2
}
