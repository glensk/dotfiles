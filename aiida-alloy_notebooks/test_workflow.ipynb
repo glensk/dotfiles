{
 "cells": [
  {
   "cell_type": "code",
   "execution_count": 3,
   "metadata": {},
   "outputs": [],
   "source": [
    "%aiida\n",
    "from aiida.work.workfunctions import workfunction\n",
    "from aiida.orm.data.int import Int\n",
    "from aiida.orm.data.array.kpoints import KpointsData\n",
    "import numpy as np"
   ]
  },
  {
   "cell_type": "code",
   "execution_count": 4,
   "metadata": {},
   "outputs": [],
   "source": [
    "structure = load_node(15634)\n",
    "kptper_recipang = Int(80)"
   ]
  },
  {
   "cell_type": "code",
   "execution_count": 11,
   "metadata": {},
   "outputs": [],
   "source": [
    "@workfunction\n",
    "def wf_getkpoints(aiida_structure, kptper_recipang):\n",
    "    \n",
    "    def get_kmeshfrom_kptper_recipang(aiida_structure, kptper_recipang):\n",
    "        import numpy as np\n",
    "        kptper_recipang = kptper_recipang.value\n",
    "\n",
    "        ase_structure = aiida_structure.get_ase()\n",
    "        reci_cell = ase_structure.get_reciprocal_cell()\n",
    "        kmesh = [np.ceil(kptper_recipang * np.linalg.norm(reci_cell[i]))\n",
    "                 for i in range(len(reci_cell))]\n",
    "        return kmesh\n",
    "    \n",
    "    kpoints_mesh = get_kmeshfrom_kptper_recipang(aiida_structure, kptper_recipang)\n",
    "    kpoints = KpointsData(kpoints_mesh=kpoints_mesh)\n",
    "\n",
    "    return kpoints"
   ]
  },
  {
   "cell_type": "code",
   "execution_count": 13,
   "metadata": {},
   "outputs": [
    {
     "data": {
      "text/plain": [
       "[<FunctionCalculation: uuid: 431ae683-8587-4c86-be78-45f94a8e8dc7 (pk: 16221)>,\n",
       " <FunctionCalculation: uuid: 431ae683-8587-4c86-be78-45f94a8e8dc7 (pk: 16221)>]"
      ]
     },
     "execution_count": 13,
     "metadata": {},
     "output_type": "execute_result"
    }
   ],
   "source": [
    "kpoints = wf_getkpoints(structure, kptper_recipang)"
   ]
  },
  {
   "cell_type": "code",
   "execution_count": 14,
   "metadata": {},
   "outputs": [],
   "source": [
    "from aiida.orm.data.float import Float\n",
    "from aiida.orm.data.base import "
   ]
  },
  {
   "cell_type": "code",
   "execution_count": null,
   "metadata": {},
   "outputs": [],
   "source": [
    "@workfunction\n",
    "def wf_setupparams()"
   ]
  }
 ],
 "metadata": {
  "kernelspec": {
   "display_name": "Python 2",
   "language": "python",
   "name": "python2"
  },
  "language_info": {
   "codemirror_mode": {
    "name": "ipython",
    "version": 2
   },
   "file_extension": ".py",
   "mimetype": "text/x-python",
   "name": "python",
   "nbconvert_exporter": "python",
   "pygments_lexer": "ipython2",
   "version": "2.7.15rc1"
  }
 },
 "nbformat": 4,
 "nbformat_minor": 2
}
