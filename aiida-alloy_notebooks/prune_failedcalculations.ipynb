{
 "cells": [
  {
   "cell_type": "code",
   "execution_count": 9,
   "metadata": {},
   "outputs": [],
   "source": [
    "%aiida\n",
    "import ase\n",
    "import aiida\n",
    "from aiida.orm.querybuilder import QueryBuilder\n",
    "from aiida.orm.data.structure import StructureData\n",
    "from aiida.orm import Group, JobCalculation,  WorkCalculation"
   ]
  },
  {
   "cell_type": "code",
   "execution_count": 10,
   "metadata": {},
   "outputs": [],
   "source": [
    "group_name = \"Al6xxxDB_structures_calc\""
   ]
  },
  {
   "cell_type": "code",
   "execution_count": 11,
   "metadata": {},
   "outputs": [
    {
     "data": {
      "text/plain": [
       "<aiida.orm.querybuilder.QueryBuilder at 0x7f2710d19bd0>"
      ]
     },
     "execution_count": 11,
     "metadata": {},
     "output_type": "execute_result"
    }
   ],
   "source": [
    "qb = QueryBuilder()\n",
    "qb.append(Group, filters={'name':group_name}, tag='g')\n",
    "qb.append(WorkCalculation, tag='job', member_of='g')"
   ]
  },
  {
   "cell_type": "code",
   "execution_count": 31,
   "metadata": {},
   "outputs": [],
   "source": [
    "all_wc = qb.all()"
   ]
  },
  {
   "cell_type": "code",
   "execution_count": 32,
   "metadata": {},
   "outputs": [],
   "source": [
    "failed_wc = [x[0] for x in all_wc if not x[0].is_finished_ok]"
   ]
  },
  {
   "cell_type": "code",
   "execution_count": 33,
   "metadata": {},
   "outputs": [],
   "source": [
    "group = Group.get_from_string(group_name)\n",
    "group.remove_nodes(failed_wc)"
   ]
  },
  {
   "cell_type": "code",
   "execution_count": null,
   "metadata": {},
   "outputs": [],
   "source": []
  }
 ],
 "metadata": {
  "kernelspec": {
   "display_name": "Python 2",
   "language": "python",
   "name": "python2"
  },
  "language_info": {
   "codemirror_mode": {
    "name": "ipython",
    "version": 2
   },
   "file_extension": ".py",
   "mimetype": "text/x-python",
   "name": "python",
   "nbconvert_exporter": "python",
   "pygments_lexer": "ipython2",
   "version": "2.7.15rc1"
  }
 },
 "nbformat": 4,
 "nbformat_minor": 2
}
