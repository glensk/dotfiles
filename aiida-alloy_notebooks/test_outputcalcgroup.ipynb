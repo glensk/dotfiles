{
 "cells": [
  {
   "cell_type": "code",
   "execution_count": 1,
   "metadata": {},
   "outputs": [],
   "source": [
    "%aiida\n",
    "import ase\n",
    "import aiida\n",
    "from aiida.orm.querybuilder import QueryBuilder\n",
    "from aiida.orm.data.structure import StructureData\n",
    "from aiida.orm import Group, JobCalculation,  WorkCalculation"
   ]
  },
  {
   "cell_type": "code",
   "execution_count": 84,
   "metadata": {},
   "outputs": [],
   "source": [
    "def retrieve_all_failed_workchains(workchain_groupname):\n",
    "    Group.get_from_string(workchain_groupname) #confirm group exists \n",
    "    \n",
    "    qb = QueryBuilder()\n",
    "    qb.append(Group, filters={'name': workchain_groupname}, tag='g')\n",
    "    qb.append(WorkCalculation, \n",
    "          filters={'attributes.exit_status':{'!==':0}},\n",
    "          tag='job', \n",
    "          member_of='g')\n",
    "    \n",
    "    return qb.all() \n",
    "\n",
    "def retrieve_all_passed_workchains(workchain_groupname):\n",
    "    Group.get_from_string(workchain_groupname) #confirm group exists\n",
    "    \n",
    "    qb = QueryBuilder()\n",
    "    qb.append(Group, filters={'name': workchain_groupname}, tag='g')\n",
    "    qb.append(WorkCalculation, \n",
    "          filters={'attributes.exit_status':{'==':0}},\n",
    "          tag='job', \n",
    "          member_of='g')\n",
    "    \n",
    "    return qb.all() "
   ]
  },
  {
   "cell_type": "code",
   "execution_count": 85,
   "metadata": {},
   "outputs": [
    {
     "data": {
      "text/plain": [
       "(84, 23, 107)"
      ]
     },
     "execution_count": 85,
     "metadata": {},
     "output_type": "execute_result"
    }
   ],
   "source": [
    "group_name = \"Al6xxxDB_structures_calc\"\n",
    "\n",
    "passing_groups = retrieve_all_passed_workchains(group_name)\n",
    "failing_groups = retrieve_all_failed_workchains(group_name)\n",
    "\n",
    "len(passing_groups), len(failing_groups), len(passing_groups) + len(failing_groups)"
   ]
  },
  {
   "cell_type": "code",
   "execution_count": 100,
   "metadata": {},
   "outputs": [],
   "source": [
    "# # Checking the output of a few random structures \n",
    "\n",
    "# import random \n",
    "\n",
    "# rnd = random.randint(0, len(passing_groups)-1)\n",
    "# sample_chain = passing_groups[rnd][0]\n",
    "# path = sample_chain.out.CALL.inp.structure.get_extras()['structure_path']\n",
    "# forces = sample_chain.out.output_array.get_array('forces')\n",
    "# energy_ev = sample_chain.out.output_parameters.get_attrs()['energy']\n",
    "# kmesh = sample_chain.inp.kpoints.get_kpoints_mesh()\n",
    "# structure = sample_chain.inp.structure.get_ase()\n",
    "# cell = structure.cell\n",
    "# positions = structure.positions\n",
    "\n",
    "# path, forces, energy_ev, kmesh, cell, positions"
   ]
  },
  {
   "cell_type": "code",
   "execution_count": 41,
   "metadata": {},
   "outputs": [],
   "source": [
    "# # Add all the test-calculations to the primary calc group\n",
    "\n",
    "\n",
    "# calc_g = Group.get_or_create(name=\"Al6xxxDB_structures_calc\")[0]\n",
    "# old_calc_g = Group.get_or_create(name=\"allatoms_fiverandom1_calc1\")[0]\n",
    "# calc_g.add_nodes([node for node in old_calc_g.nodes])\n",
    "# # Check that we have 107 less structures to calculate \n",
    "# len(retrieve_alluncalculated_structures(\"Al6xxxDB_structures\", calculation_group=\"Al6xxxDB_structures_calc\"))"
   ]
  },
  {
   "cell_type": "code",
   "execution_count": 104,
   "metadata": {},
   "outputs": [],
   "source": [
    "# # remove all failing groups\n",
    "\n",
    "# calc_g = Group.get_or_create(name=\"Al6xxxDB_structures_calc\")[0]\n",
    "# calc_g.remove_nodes([x[0] for x in failing_groups])"
   ]
  },
  {
   "cell_type": "code",
   "execution_count": 105,
   "metadata": {},
   "outputs": [
    {
     "data": {
      "text/plain": [
       "<Group: \"Al6xxxDB_structures_calc\" [user-defined], of user daniel.marchand@epfl.ch>"
      ]
     },
     "execution_count": 105,
     "metadata": {},
     "output_type": "execute_result"
    }
   ],
   "source": []
  },
  {
   "cell_type": "code",
   "execution_count": null,
   "metadata": {},
   "outputs": [],
   "source": []
  }
 ],
 "metadata": {
  "kernelspec": {
   "display_name": "Python 2",
   "language": "python",
   "name": "python2"
  },
  "language_info": {
   "codemirror_mode": {
    "name": "ipython",
    "version": 2
   },
   "file_extension": ".py",
   "mimetype": "text/x-python",
   "name": "python",
   "nbconvert_exporter": "python",
   "pygments_lexer": "ipython2",
   "version": "2.7.15rc1"
  }
 },
 "nbformat": 4,
 "nbformat_minor": 2
}
