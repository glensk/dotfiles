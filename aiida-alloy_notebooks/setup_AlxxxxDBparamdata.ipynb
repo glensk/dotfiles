{
 "cells": [
  {
   "cell_type": "code",
   "execution_count": 3,
   "metadata": {},
   "outputs": [
    {
     "data": {
      "application/json": {
       "current_state": "Loaded AiiDA DB environment."
      },
      "text/html": [
       "<p>Loaded AiiDA DB environment.</p>"
      ],
      "text/latex": [
       "Loaded AiiDA DB environment.\n"
      ],
      "text/plain": [
       "Loaded AiiDA DB environment.\n"
      ]
     },
     "execution_count": 3,
     "metadata": {},
     "output_type": "execute_result"
    }
   ],
   "source": [
    "%aiida"
   ]
  },
  {
   "cell_type": "code",
   "execution_count": 4,
   "metadata": {},
   "outputs": [],
   "source": [
    "param_dict={\n",
    "    'CONTROL' : {                                                                                            \n",
    "        #'calculation' : 'scf',                                                                                 \n",
    "        'tprnfor' : True,                                                                                    \n",
    "        'tstress' : True,                                                                                   \n",
    "        'verbosity' : 'high',                                                                                  \n",
    "        'wf_collect' : True,                                                                                 \n",
    "        'etot_conv_thr' : 2.5e-4,                                                                              \n",
    "        'forc_conv_thr' : 2.0e-5,      \n",
    "        'disk_io': 'none'\n",
    "        },                                                                                                       \n",
    "    'SYSTEM' : {                                                                                             \n",
    "        'degauss' :   4.4100000000e-02,                                                                        \n",
    "        'ecutrho' : 400,                                                                                       \n",
    "        'ecutwfc' :  40,                                                                                       \n",
    "        #'nbnd' : TBD,                                                                                          \n",
    "        'occupations' : 'smearing',                                                                            \n",
    "        'smearing' : 'mp',                                                                                     \n",
    "        'nosym': True,                                                                                       \n",
    "        },                                                                                                        \n",
    "    'ELECTRONS' : {                                                                                          \n",
    "        'conv_thr' :   1.0000000000e-12,                                                                       \n",
    "        'mixing_beta' :   4.0000000000e-01,                                                                    \n",
    "        'mixing_mode' : 'local-TF',                                                                            \n",
    "        }   \n",
    "}"
   ]
  },
  {
   "cell_type": "code",
   "execution_count": 5,
   "metadata": {},
   "outputs": [],
   "source": [
    "p = DataFactory('parameter')\n",
    "parameter_data = p(dict=param_dict)"
   ]
  },
  {
   "cell_type": "code",
   "execution_count": 6,
   "metadata": {},
   "outputs": [
    {
     "data": {
      "text/plain": [
       "<ParameterData: uuid: 185c7099-5a17-45df-a697-15687f27fc69 (pk: 1202)>"
      ]
     },
     "execution_count": 6,
     "metadata": {},
     "output_type": "execute_result"
    }
   ],
   "source": [
    "parameter_data.store()"
   ]
  },
  {
   "cell_type": "code",
   "execution_count": 15,
   "metadata": {},
   "outputs": [],
   "source": [
    "base_dict = parameter_data.get_dict()"
   ]
  },
  {
   "cell_type": "code",
   "execution_count": 18,
   "metadata": {},
   "outputs": [
    {
     "data": {
      "text/plain": [
       "{'CONTROL': {'etot_conv_thr': 0.00025,\n",
       "  'forc_conv_thr': 2e-05,\n",
       "  'tprnfor': True,\n",
       "  'tstress': True,\n",
       "  'verbosity': 'high',\n",
       "  'wf_collect': True},\n",
       " 'ELECTRONS': {'conv_thr': 1e-12,\n",
       "  'mixing_beta': 0.4,\n",
       "  'mixing_mode': 'local-TF'},\n",
       " 'SYSTEM': {'degauss': 0.0441,\n",
       "  'ecutrho': 400,\n",
       "  'ecutwfc': 40,\n",
       "  'ibrav': 0,\n",
       "  'nbnd': 10,\n",
       "  'nosym': True,\n",
       "  'occupations': 'smearing',\n",
       "  'smearing': 'mp'}}"
      ]
     },
     "execution_count": 18,
     "metadata": {},
     "output_type": "execute_result"
    }
   ],
   "source": [
    "base_dict['SYSTEM']['nbnd'] = 10\n",
    "base_dict"
   ]
  },
  {
   "cell_type": "code",
   "execution_count": 19,
   "metadata": {},
   "outputs": [
    {
     "data": {
      "text/plain": [
       "{'CONTROL': {'etot_conv_thr': 0.00025,\n",
       "  'forc_conv_thr': 2e-05,\n",
       "  'tprnfor': True,\n",
       "  'tstress': True,\n",
       "  'verbosity': 'high',\n",
       "  'wf_collect': True},\n",
       " 'ELECTRONS': {'conv_thr': 1e-12,\n",
       "  'mixing_beta': 0.4,\n",
       "  'mixing_mode': 'local-TF'},\n",
       " 'SYSTEM': {'degauss': 0.0441,\n",
       "  'ecutrho': 400,\n",
       "  'ecutwfc': 40,\n",
       "  'ibrav': 0,\n",
       "  'nbnd': 10,\n",
       "  'nosym': True,\n",
       "  'occupations': 'smearing',\n",
       "  'smearing': 'mp'}}"
      ]
     },
     "execution_count": 19,
     "metadata": {},
     "output_type": "execute_result"
    }
   ],
   "source": [
    "p(dict=base_dict).get_dict()"
   ]
  },
  {
   "cell_type": "code",
   "execution_count": null,
   "metadata": {},
   "outputs": [],
   "source": []
  }
 ],
 "metadata": {
  "kernelspec": {
   "display_name": "Python 2",
   "language": "python",
   "name": "python2"
  },
  "language_info": {
   "codemirror_mode": {
    "name": "ipython",
    "version": 2
   },
   "file_extension": ".py",
   "mimetype": "text/x-python",
   "name": "python",
   "nbconvert_exporter": "python",
   "pygments_lexer": "ipython2",
   "version": "2.7.12"
  }
 },
 "nbformat": 4,
 "nbformat_minor": 2
}
