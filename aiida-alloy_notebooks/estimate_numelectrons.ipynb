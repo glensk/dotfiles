{
 "cells": [
  {
   "cell_type": "code",
   "execution_count": 1,
   "metadata": {},
   "outputs": [],
   "source": [
    "%aiida\n",
    "from aiida.orm.data.upf import get_pseudos_from_structure\n",
    "import sys"
   ]
  },
  {
   "cell_type": "code",
   "execution_count": 8,
   "metadata": {},
   "outputs": [],
   "source": [
    "def get_numelectrons_structure_upffamily(structure, pseudos):\n",
    "    \n",
    "    def parse_numelectrons_upfpath(upfpath):\n",
    "        for line in open(upfpath):\n",
    "            if \"valence\" in line.lower() and \"z\" in line.lower():\n",
    "                if len(line.split(\"=\")) == 2:\n",
    "                    num_e = int(float((line.split(\"=\")[-1].strip().strip('\"'))))\n",
    "                elif len(line.split()) == 3:\n",
    "                    num_e = int(float(line.split()[0]))\n",
    "                else:\n",
    "                    raise Exception(\"Could not parse {}\".format(upfpath))\n",
    "        return num_e\n",
    "\n",
    "    \n",
    "    def build_upf_numelectrons_dict(structure_ase, pseudos):\n",
    "        element_nume_dict = {}\n",
    "        for element in set(structure_ase.get_chemical_symbols()):\n",
    "            upfpath = pseudos[element].get_file_abs_path()\n",
    "            element_nume_dict[element] = parse_numelectrons_upfpath(upfpath)\n",
    "        return element_nume_dict\n",
    "\n",
    "    \n",
    "    structure_ase = structure.get_ase()\n",
    "    \n",
    "    element_nume_dict = build_upf_numelectrons_dict(structure_ase, pseudos)\n",
    "    \n",
    "    num_e = 0\n",
    "    for element in structure_ase.get_chemical_symbols():\n",
    "        num_e += element_nume_dict[element]\n",
    "        \n",
    "    return num_e    "
   ]
  },
  {
   "cell_type": "code",
   "execution_count": 9,
   "metadata": {},
   "outputs": [
    {
     "name": "stdout",
     "output_type": "stream",
     "text": [
      "100 loops, best of 3: 16.3 ms per loop\n"
     ]
    }
   ],
   "source": [
    "#we should get 96 electrons\n",
    "structure = load_node(15586)\n",
    "upf_family = \"SSSPefv1.1_alalloy\"\n",
    "pseudos = get_pseudos_from_structure(structure, upf_family)\n",
    "\n",
    "%timeit get_numelectrons_structure_upffamily(structure, pseudos)"
   ]
  },
  {
   "cell_type": "code",
   "execution_count": null,
   "metadata": {},
   "outputs": [],
   "source": []
  }
 ],
 "metadata": {
  "kernelspec": {
   "display_name": "Python 2",
   "language": "python",
   "name": "python2"
  },
  "language_info": {
   "codemirror_mode": {
    "name": "ipython",
    "version": 2
   },
   "file_extension": ".py",
   "mimetype": "text/x-python",
   "name": "python",
   "nbconvert_exporter": "python",
   "pygments_lexer": "ipython2",
   "version": "2.7.15rc1"
  }
 },
 "nbformat": 4,
 "nbformat_minor": 2
}
