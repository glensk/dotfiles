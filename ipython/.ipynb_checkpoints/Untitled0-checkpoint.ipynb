{
 "metadata": {
  "name": "",
  "signature": "sha256:790eaa2eeba83134f1e393a3c07abdcaf64c89c5ec2a041943d727c38fe6bb19"
 },
 "nbformat": 3,
 "nbformat_minor": 0,
 "worksheets": []
}